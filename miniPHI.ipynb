{
  "nbformat": 4,
  "nbformat_minor": 0,
  "metadata": {
    "colab": {
      "name": "miniPHI.ipynb",
      "provenance": [],
      "collapsed_sections": [],
      "authorship_tag": "ABX9TyOjeJt80nuMxAqBXox1/Um1",
      "include_colab_link": true
    },
    "kernelspec": {
      "name": "python3",
      "display_name": "Python 3"
    }
  },
  "cells": [
    {
      "cell_type": "markdown",
      "metadata": {
        "id": "view-in-github",
        "colab_type": "text"
      },
      "source": [
        "<a href=\"https://colab.research.google.com/github/andresni/miniPHI/blob/master/miniPHI.ipynb\" target=\"_parent\"><img src=\"https://colab.research.google.com/assets/colab-badge.svg\" alt=\"Open In Colab\"/></a>"
      ]
    },
    {
      "cell_type": "markdown",
      "metadata": {
        "id": "HCsEFiJIpVsn",
        "colab_type": "text"
      },
      "source": [
        "# Approximations and heuristics of PHI\n",
        "This is a notebook for generating logic gate networks, calculating PHI on them, as well as approximatinos and heuristics to PHI.\n",
        "\n",
        "PHI is a measure of integrated information, from the Integrated Information Theory of Consciousness (IIT) by Guilio Tononi (Oizumi et al. 2014).\n",
        "\n",
        "Here we will generate many many networks, and see if there are metrics that are less resource intensive than PHI, but perhaps accurate.\n",
        "\n",
        "See the paper  [Nilsen, Juel, and Marshall (2019)](https://www.mdpi.com/1099-4300/21/5/525) for more information.\n",
        "\n",
        "---\n",
        "First, installs and imports."
      ]
    },
    {
      "cell_type": "code",
      "metadata": {
        "id": "obZD7AxapSge",
        "colab_type": "code",
        "colab": {}
      },
      "source": [
        "%pip install pyphi\n",
        "\n",
        "import numpy as np\n",
        "import pandas as pd\n",
        "import copy\n",
        "import time\n",
        "import itertools\n",
        "import os\n",
        "import csv\n",
        "import random\n",
        "import scipy.io as sio\n",
        "import scipy as spi"
      ],
      "execution_count": 0,
      "outputs": []
    },
    {
      "cell_type": "markdown",
      "metadata": {
        "id": "1cNEb_yCKLdq",
        "colab_type": "text"
      },
      "source": [
        "Next is parameters. \n",
        "\n",
        "\"Steps\" which refers to how many states should a network visit following a given initialization. This will be normalized if multiple network sizes are used so that the information content of different network sizes are the same (i.e. fewer nodes = more steps).\n",
        "\n",
        "\"Samples\" refers to how many times should a given initialization be repeated.\n",
        "\n",
        "\"States\" refers to how many initializations should be performed\n",
        "\n",
        "\"noiseLVL\" refers to how much noise should be present in the network activity.\n",
        "\n",
        "\"noise\" refers to type of noise, with options \"con\" (fuzzy connections), \"node\" (fuzzy nodes), \"net\" (embedded network, i.e. hidden background nodes influencing network)."
      ]
    },
    {
      "cell_type": "code",
      "metadata": {
        "id": "uG1zv5bRJ7Mt",
        "colab_type": "code",
        "colab": {}
      },
      "source": [
        "# Setting up parameters\n",
        "Params = {\"nrnetworks\": 5,  # generate how many networks of each size\n",
        "          \"minsize\": 3,  # min node count\n",
        "          \"maxsize\": 6,  # max node count\n",
        "          \"steps\": 32,  # number of steps per network\n",
        "          \"samples\": 1,  # number of samples per state\n",
        "          \"states\": 3200,  # number of states to start in\n",
        "          \"noiseLVL\": 0.00,  # plus minus noise\n",
        "          \"noise\": \"none\",  # kind of noise (none, con, node, net)\n",
        "          }"
      ],
      "execution_count": 0,
      "outputs": []
    },
    {
      "cell_type": "markdown",
      "metadata": {
        "id": "U78vNpK1Ljhs",
        "colab_type": "text"
      },
      "source": [
        "Next is a function to generate networks $M$ of the following kind:\n",
        "\n",
        "$M_{i,j} =\n",
        " \\begin{pmatrix}\n",
        "  0 & w_{1,2} & \\cdots & w_{1,j} \\\\\n",
        "  w_{2,1} & 0 & \\cdots & w_{2,j} \\\\\n",
        "  \\vdots  & \\vdots  & \\ddots & \\vdots  \\\\\n",
        "  w_{m,1} & w_{i,2} & \\cdots & 0\n",
        " \\end{pmatrix}$\n",
        " \n",
        " where $w$ is the weight between nodes $i$ and $j$."
      ]
    },
    {
      "cell_type": "code",
      "metadata": {
        "id": "3BKtnqzvLmAN",
        "colab_type": "code",
        "colab": {}
      },
      "source": [
        "def net_gen_next(Params):\n",
        "    networks = []\n",
        "            \n",
        "    for size in range(Params[\"minsize\"], Params[\"maxsize\"] + 1):\n",
        "        temp_net = []\n",
        "        for x in range(0, Params[\"nrnetworks\"]):\n",
        "            temp = np.zeros([size,size])\n",
        "            \n",
        "            conn_prob = np.random.uniform(0.2, 1.0)\n",
        "            inh_prob = np.random.uniform(0.0, 0.8)\n",
        "            \n",
        "            for xx in range(0,size):\n",
        "                for yy in range(0,size):\n",
        "                    if not xx==yy:\n",
        "                        if np.random.rand() < conn_prob:\n",
        "                            temp[xx][yy] = np.random.normal(1, 0)\n",
        "                            if np.random.rand() < inh_prob:\n",
        "                                temp[xx][yy] = np.random.normal(-1, 0)\n",
        "            \n",
        "            temp2 = list(itertools.permutations([it for it in range(size)]))\n",
        "            temp3 = [temp[:, list(it)][list(it)] for it in temp2]\n",
        "            \n",
        "            yes = 0\n",
        "            for ii in temp3:\n",
        "                for zz in temp_net:    \n",
        "                    if len(np.unique([ii, zz], axis=0)) < 2:\n",
        "                        yes = 1\n",
        "                        break\n",
        "            if not yes:\n",
        "              temp_net.append(copy.copy(temp))\n",
        "                    \n",
        "        for xx in temp_net:\n",
        "            networks.append(xx)\n",
        "    \n",
        "    return np.array(networks)"
      ],
      "execution_count": 0,
      "outputs": []
    },
    {
      "cell_type": "markdown",
      "metadata": {
        "id": "Zftli4B6NRf7",
        "colab_type": "text"
      },
      "source": [
        "And then functions related to generate activity, along with some auxillary functions."
      ]
    },
    {
      "cell_type": "code",
      "metadata": {
        "id": "qFmSRlLEPpN3",
        "colab_type": "code",
        "colab": {}
      },
      "source": [
        "def createLOLI(nodes): # Creates an ordered list that iterates through all possible permutations of a binary array.\n",
        "    LOLI = np.zeros((int(2**nodes), int(nodes)))\n",
        "    i = 1\n",
        "    for z in range(0, len(LOLI[0, :])):\n",
        "        for x in range(i, len(LOLI[:, 0])):\n",
        "            if LOLI[x - i, z] == 1:\n",
        "                LOLI[x, z] = 0\n",
        "            else:\n",
        "                LOLI[x, z] = 1\n",
        "        i = i * 2       \n",
        "    return LOLI\n",
        "\n",
        "def makeStateByNode(spm,LOLI): # Convert activity to state by node probability matrix\n",
        "         \n",
        "    sbn=np.zeros((len(LOLI),len(LOLI[0])+1))\n",
        "    LOLI=LOLI.tolist()\n",
        "    a = int(len(spm[0][0]) - len(LOLI[0]))\n",
        "    for x in range(len(spm)):\n",
        "      for i in range(len(spm[x])-1):\n",
        "        b=spm[x][i][:-a] if a > 0 else spm[x][i]\n",
        "        c=spm[x][i+1][:-a] if a > 0 else spm[x][i+1]\n",
        "        indexa=LOLI.index(list(b))\n",
        "        c=np.append(c,1)\n",
        "        sbn[indexa]=np.add(sbn[indexa],c)\n",
        "        \n",
        "    for i in range(0,len(sbn)):\n",
        "        for q in range(0,len(sbn[i])-1):\n",
        "            sbn[i,q]=sbn[i,q]/sbn[i][-1] if sbn[i][-1] > 0 else 0\n",
        "            sbn[i,q]=np.round(sbn[i,q],4)\n",
        "    \n",
        "    return sbn[:,0:-1]\n",
        "\n",
        "def makeStateByState(spm,LOLI): # Convert activity to state by state probability matrix\n",
        "    \n",
        "    sbn=np.zeros((len(LOLI),len(LOLI)))\n",
        "    a = int(len(spm[0][0]) - len(LOLI[0]))\n",
        "    LOLI=LOLI.tolist()\n",
        "    for x in range(len(spm)):\n",
        "      for i in range(len(spm[x])-1):  \n",
        "        b=spm[x][i][:-a] if a > 0 else spm[x][i]\n",
        "        c=spm[x][i+1][:-a] if a > 0 else spm[x][i+1]\n",
        "        indexa=LOLI.index(list(b))\n",
        "        indexb=LOLI.index(list(c))\n",
        "        sbn[indexa,indexb]+=1\n",
        "        \n",
        "    for i in range(0,len(sbn)):\n",
        "        s=np.sum(sbn[i])\n",
        "        for q in range(0,len(sbn[i])):\n",
        "            sbn[i,q]=sbn[i,q]/s if s > 0 else 0\n",
        "            sbn[i,q]=np.round(sbn[i,q],4)\n",
        "    \n",
        "    return sbn\n",
        "\n",
        "def gen_transition_prob_matrices_state(results): # Create transition probability matrix (state by state)\n",
        "   \n",
        "    tpm = []    \n",
        "    for i in range(len(results[\"partial_activity\"])):\n",
        "        tpm.append(copy.deepcopy(statsPlots.makeStateByState(results[\"partial_activity\"][i],results[\"LOLI\"][i])))\n",
        "    results.update({\"tpms\":copy.deepcopy(tpm)})\n",
        "    return results\n",
        "\n",
        "def gen_transition_prob_matrices_node(results): # Create transition probability matrix (state by node)\n",
        "    \n",
        "    tpm = []\n",
        "    for i in range(len(results[\"partial_activity\"])):\n",
        "        tpm.append(copy.deepcopy(statsPlots.makeStateByNode(results[\"partial_activity\"][i],results[\"LOLI\"][i])))\n",
        "    results.update({\"tpmn\":copy.deepcopy(tpm)})\n",
        "    return results\n",
        "\n",
        "def activity(results,Params): # Generate activity given a network\n",
        "    \n",
        "    all_net_act = []\n",
        "    all_net_pact = []\n",
        "    all_net_LOLI = []\n",
        "    \n",
        "    for i in results[\"networks\"]:\n",
        "        partial = []\n",
        "        LOLI = createLOLI(len(i))\n",
        "        replace = True if Params[\"states\"] > len(LOLI) else False\n",
        "        states = np.random.choice(list(range(len(LOLI))), Params[\"states\"], replace = replace)\n",
        "        states = list(states) * Params[\"steps\"]\n",
        "\n",
        "        for L in states:\n",
        "            state_block = LOLI[L]\n",
        "            for rounds in range(Params[\"samples\"]):\n",
        "                temp = np.zeros(len(i))\n",
        "                for x in range(len(i)):\n",
        "                    if LOLI[L][x] > 0:\n",
        "                        for y in range(len(i)):\n",
        "                          noise = np.random.uniform(-Params[\"noiseLVL\"], Params[\"noiseLVL\"]) if Params[\"noise\"] == \"con\" else 0\n",
        "                          temp[y] = temp[y] + i[x][y] + np.random.uniform(noise, noise)\n",
        "                for x in range(len(i)):\n",
        "                  temp[x] = 1 if temp[x] >= 1 else 0\n",
        "                  if Params[\"noise\"] == \"node\":\n",
        "                    temp[x] = [1, 0][int(temp[x])] if np.random.rand() < Params[\"noiseLVL\"] else [0, 1][int(temp[x])]\n",
        "                state_block.append(copy.deepcopy(temp))\n",
        "            partial.append(copy.deepcopy(state_block))\n",
        "\n",
        "        all_net_pact.append(copy.deepcopy(partial))\n",
        "        all_net_LOLI.append(copy.deepcopy(LOLI))\n",
        "\n",
        "    return {\"partial_activity\": all_net_pact, \"LOLI\": all_net_LOLI}"
      ],
      "execution_count": 0,
      "outputs": []
    }
  ]
}